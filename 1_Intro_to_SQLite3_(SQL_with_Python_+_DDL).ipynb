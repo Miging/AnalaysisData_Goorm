{
  "cells": [
    {
      "cell_type": "markdown",
      "metadata": {
        "id": "view-in-github",
        "colab_type": "text"
      },
      "source": [
        "<a href=\"https://colab.research.google.com/github/Miging/AnalaysisData_Goorm/blob/main/1_Intro_to_SQLite3_(SQL_with_Python_%2B_DDL).ipynb\" target=\"_parent\"><img src=\"https://colab.research.google.com/assets/colab-badge.svg\" alt=\"Open In Colab\"/></a>"
      ]
    },
    {
      "cell_type": "markdown",
      "metadata": {
        "id": "dr-rdl-utUN3"
      },
      "source": [
        "<br>\n",
        "<br>\n",
        "\n",
        "## 1. Basic handling with SQLite3"
      ]
    },
    {
      "cell_type": "markdown",
      "metadata": {
        "id": "3UUWRMNitUN5"
      },
      "source": [
        "<br>\n",
        "<br>\n",
        "\n",
        "## 1-1. Import SQLite3"
      ]
    },
    {
      "cell_type": "code",
      "execution_count": 2,
      "metadata": {
        "colab": {
          "base_uri": "https://localhost:8080/"
        },
        "id": "AG_wMqoCtUN6",
        "outputId": "7a2b5396-0a36-46b3-b7cc-3e38841804f7"
      },
      "outputs": [
        {
          "output_type": "stream",
          "name": "stdout",
          "text": [
            "3.37.2\n",
            "2.6.0\n"
          ]
        }
      ],
      "source": [
        "import sqlite3 # built-in library (Python 2.x & 3.x)\n",
        "\n",
        "print(sqlite3.sqlite_version) # sqlite version\n",
        "print(sqlite3.version) # pysqlite version"
      ]
    },
    {
      "cell_type": "markdown",
      "metadata": {
        "id": "kdh-E_nttUN7"
      },
      "source": [
        "<br>\n",
        "<br>\n",
        "\n",
        "## 1-2. Create connection & SQLite3 Cursor (a method of the connection object)"
      ]
    },
    {
      "cell_type": "code",
      "execution_count": 3,
      "metadata": {
        "id": "QqM5mxsWtUN7"
      },
      "outputs": [],
      "source": [
        "# 만드려는 Database 파일의 이름을 지정합니다.\n",
        "dbpath = \"maindb.db\" # or \"maindb.sqlite\"\n",
        "\n",
        "conn = sqlite3.connect(dbpath) # Database 파일에 '연결'합니다.\n",
        "\n",
        "# 1) conn.cursor() //db에 대한 커서 생성\n",
        "# 2) conn.commit/rollback() <- conn.commit() : 저장 vs conn.rollback() : 마지막 commit 이후의 변경사항 모두 취소\n",
        "# 3) conn.close()"
      ]
    },
    {
      "cell_type": "code",
      "execution_count": 4,
      "metadata": {
        "id": "fdioJs3jtUN8"
      },
      "outputs": [],
      "source": [
        "cur = conn.cursor() # 마우스 커서(cursor)와 같이 DB를 hovering하고 있다고 상상해주세요.\n",
        "\n",
        "# cur.execute(\"실행할 SQL 문\")\n",
        "#cur.executescript(\"실행할 SQL 문자들\")\n",
        "#cur.executemany(,,,)\n",
        "\n",
        "\n",
        "#select문 실행 이후\n",
        "#cur.fetchone\n",
        "#cur.fetchall()"
      ]
    },
    {
      "cell_type": "markdown",
      "metadata": {
        "id": "bLd-Z8bDtUN8"
      },
      "source": [
        "<br>\n",
        "<br>\n",
        "\n",
        "## 1-3. Execute scripts with SQLite3 Cursor & Save the changes\n",
        "\n",
        "<br>\n",
        "<br>\n",
        "\n",
        "**Datatypes** in SQLite3\n",
        "@ https://www.sqlitetutorial.net/sqlite-data-types/ (한글 : https://araikuma.tistory.com/681)\n",
        "\n",
        "- #### **NULL** : missing information or unknown.\n",
        "- #### **INTEGER (or INT)** : Integer values are whole numbers (positive or negative). An integer can have variable sizes such as 1, 2,3, 4, or 8 bytes.\n",
        "- #### **REAL** : a floating point value, real numbers with decimal values that use 8-byte floats.\n",
        "- #### **TEXT (or VARCHAR)** : a text string, SQLite supports various character encodings. (UTF-8, UTF-16BE or UTF-16LE)\n",
        "- #### **BLOB** : stands for a binary large object that can store any kind of data.\n",
        "\n",
        "<br>\n",
        "\n",
        "Field의 Datatype을 지칭하는 이름은 DBMS의 종류별로 대동소이합니다.\n",
        "<br>\n",
        "ex) Datatypes in MySQL @ https://dev.mysql.com/doc/refman/8.0/en/data-types.html & http://blog.naver.com/islove8587/221036036689"
      ]
    },
    {
      "cell_type": "code",
      "execution_count": null,
      "metadata": {
        "id": "X0TkJPNXtUN8"
      },
      "outputs": [],
      "source": [
        "# 아래와 같이 한 줄로 작성할 수도 있으나 가시성/유지보수를 고려해 멀티라인으로 작성합니다.\n",
        "\n",
        "# cur.execute(\"CREATE TABLE employees(id INTEGER PRIMARY KEY, name TEXT NOT NULL, salary REAL, department TEXT, position TEXT, hireDate TEXT)\")\n",
        "# query='''\n",
        "# CREATE TABLE employees(\n",
        "#   id INTEGER PRIMARY KEY,\n",
        "#   name TEXT NOT NULL,\n",
        "#   salary REAL, department TEXT,\n",
        "#   position TEXT,\n",
        "#   hireDate TEXT)'''\n",
        "\n",
        "# con.commit()"
      ]
    },
    {
      "cell_type": "code",
      "execution_count": 5,
      "metadata": {
        "id": "W-l9OxXqtUN8"
      },
      "outputs": [],
      "source": [
        "script = \"\"\"\n",
        "-- 1) employees 테이블이 이미 있다면 제거\n",
        "DROP TABLE IF EXISTS employees;\n",
        "\n",
        "-- 2) employees 테이블 생성\n",
        "CREATE TABLE employees(\n",
        "id INTEGER PRIMARY KEY AUTOINCREMENT, --숫자를 저장, 이 테이블의 주요 Key(기본 키)로 지정, 값을 따로 입력하지 않으면 자동 증가 숫자 부여\n",
        "name TEXT NOT NULL, --빈 값이 저장되는 것을 허용하지 않음\n",
        "salary REAL, --소수점이 들어간 자료형\n",
        "department TEXT,\n",
        "position TEXT,\n",
        "hireDate TEXT);\n",
        "\n",
        "-- 3) employees 테이블에 데이터(row == record == instance) 넣기\n",
        "-- Format) INSERT INTO 테이블명(필드명, 필드명, ...) VALUES(실제값, 실제값, ...) <- 지정한 필드의 수와 넣어주는 값의 갯수가 동일해야 함\n",
        "INSERT INTO employees(name, salary, department, position, hireDate) VALUES('Dave', 300, 'Marketing', 'LV1', '2020-01-01');\n",
        "INSERT INTO employees(name, salary, department, position, hireDate) VALUES('Clara', 420, 'Sales', 'LV2', '2018-01-11');\n",
        "INSERT INTO employees(id, name, salary, department, position, hireDate) VALUES(3, 'Jane', 620, 'Developer', 'LV4', '2015-11-01');\n",
        "-- 전체 필드에 빠짐없이 값을 넣을 시 필드명 생략 가능\n",
        "INSERT INTO employees VALUES(4, 'Peter', 530, 'Developer', 'LV2', '2020-11-01');\n",
        "\"\"\"\n",
        "\n",
        "cur.executescript(script) # 여러개의 SQL 명령어를 한 장의 \"Script\"처럼 한번에 실행합니다.\n",
        "conn.commit() # connect -> commit/rollback -> close, 실제로 DB에 위 Table & Data를 저장합니다."
      ]
    },
    {
      "cell_type": "code",
      "source": [
        "cur.execute(\"SELECT * FROM employees;\")\n",
        "cur.fetchall()"
      ],
      "metadata": {
        "colab": {
          "base_uri": "https://localhost:8080/"
        },
        "id": "06k5HRddxkXG",
        "outputId": "33f5c264-3111-4e9c-c778-5f81ac361c68"
      },
      "execution_count": 8,
      "outputs": [
        {
          "output_type": "execute_result",
          "data": {
            "text/plain": [
              "[(1, 'Dave', 300.0, 'Marketing', 'LV1', '2020-01-01'),\n",
              " (2, 'Clara', 420.0, 'Sales', 'LV2', '2018-01-11'),\n",
              " (3, 'Jane', 620.0, 'Developer', 'LV4', '2015-11-01'),\n",
              " (4, 'Peter', 530.0, 'Developer', 'LV2', '2020-11-01')]"
            ]
          },
          "metadata": {},
          "execution_count": 8
        }
      ]
    },
    {
      "cell_type": "code",
      "execution_count": 9,
      "metadata": {
        "id": "zB7MoyvCtUN9"
      },
      "outputs": [],
      "source": [
        "data = [('Elena', 510, 'Recruiter', 'LV3', '2020-07-01'),\n",
        "        ('Sujan', 710, 'HR', 'LV5', '2014-06-01'),\n",
        "        ('Jake', 210, 'CEO', 'LV8', '2012-01-01')]\n",
        "\n",
        "# 많은(\"many\") 데이터를 한번에 INSERT/UPDATE/DELETE 합니다.\n",
        "cur.executemany(\"INSERT INTO employees(name, salary, department, position, hireDate) VALUES(?, ?, ?, ?, ?);\", data)\n",
        "conn.commit()"
      ]
    },
    {
      "cell_type": "code",
      "execution_count": 13,
      "metadata": {
        "colab": {
          "base_uri": "https://localhost:8080/"
        },
        "id": "WfQug_FLtUN9",
        "outputId": "08551caf-bbc0-4c5b-eaae-f8112cfbc597"
      },
      "outputs": [
        {
          "output_type": "stream",
          "name": "stdout",
          "text": [
            "(1, 'Dave', 300.0, 'Marketing', 'LV1', '2020-01-01')\n",
            "(2, 'Clara', 420.0, 'Sales', 'LV2', '2018-01-11')\n",
            "(3, 'Jane', 620.0, 'Developer', 'LV4', '2015-11-01')\n",
            "(4, 'Peter', 530.0, 'Developer', 'LV2', '2020-11-01')\n",
            "(5, 'Elena', 510.0, 'Recruiter', 'LV3', '2020-07-01')\n",
            "(6, 'Sujan', 710.0, 'HR', 'LV5', '2014-06-01')\n",
            "(7, 'Jake', 210.0, 'CEO', 'LV8', '2012-01-01')\n"
          ]
        }
      ],
      "source": [
        "cur.execute(\"SELECT * FROM employees;\") # 단 하나의 SQL 문을 실행(\"execute\")합니다.\n",
        "\n",
        "employee_list = cur.fetchall() # fetchall or fetchone\n",
        "\n",
        "for employee in employee_list:\n",
        "    print(employee)"
      ]
    },
    {
      "cell_type": "code",
      "source": [
        "#List comprehenstion\n",
        "#복잡해지면 차라리 for문으로 표기하는게 좋을지도\n",
        "\n",
        "[num/2 for num in range(5)]"
      ],
      "metadata": {
        "colab": {
          "base_uri": "https://localhost:8080/"
        },
        "id": "QcE2Tdug46BZ",
        "outputId": "c571ac2b-1348-4f99-e6d1-b80d96aa7897"
      },
      "execution_count": 19,
      "outputs": [
        {
          "output_type": "execute_result",
          "data": {
            "text/plain": [
              "[0.0, 0.5, 1.0, 1.5, 2.0]"
            ]
          },
          "metadata": {},
          "execution_count": 19
        }
      ]
    },
    {
      "cell_type": "code",
      "execution_count": 16,
      "metadata": {
        "colab": {
          "base_uri": "https://localhost:8080/"
        },
        "id": "Zs2vHSXZtUN9",
        "outputId": "ef8cb7e5-be61-4408-d260-23646e4a788c"
      },
      "outputs": [
        {
          "output_type": "stream",
          "name": "stdout",
          "text": [
            "['id', 'name', 'salary', 'department', 'position', 'hireDate']\n",
            "(('id', None, None, None, None, None, None), ('name', None, None, None, None, None, None), ('salary', None, None, None, None, None, None), ('department', None, None, None, None, None, None), ('position', None, None, None, None, None, None), ('hireDate', None, None, None, None, None, None))\n"
          ]
        }
      ],
      "source": [
        "# Checking column names with fetched data\n",
        "\n",
        "print([col[0] for col in cur.description]) # \"Description\" of the table\n",
        "# print(cur.description) # https://j.mp/3f2xc6l"
      ]
    },
    {
      "cell_type": "code",
      "execution_count": 21,
      "metadata": {
        "colab": {
          "base_uri": "https://localhost:8080/",
          "height": 173
        },
        "id": "PGgUJRKYtUN9",
        "outputId": "0cc57e4b-02ea-4ce2-dd03-5df3a145be4a"
      },
      "outputs": [
        {
          "output_type": "execute_result",
          "data": {
            "text/plain": [
              "   id   name  salary department position    hireDate\n",
              "2   3   Jane   620.0  Developer      LV4  2015-11-01\n",
              "3   4  Peter   530.0  Developer      LV2  2020-11-01\n",
              "4   5  Elena   510.0  Recruiter      LV3  2020-07-01\n",
              "5   6  Sujan   710.0         HR      LV5  2014-06-01"
            ],
            "text/html": [
              "\n",
              "  <div id=\"df-85583b42-b970-4b6f-af15-6b496b25458e\" class=\"colab-df-container\">\n",
              "    <div>\n",
              "<style scoped>\n",
              "    .dataframe tbody tr th:only-of-type {\n",
              "        vertical-align: middle;\n",
              "    }\n",
              "\n",
              "    .dataframe tbody tr th {\n",
              "        vertical-align: top;\n",
              "    }\n",
              "\n",
              "    .dataframe thead th {\n",
              "        text-align: right;\n",
              "    }\n",
              "</style>\n",
              "<table border=\"1\" class=\"dataframe\">\n",
              "  <thead>\n",
              "    <tr style=\"text-align: right;\">\n",
              "      <th></th>\n",
              "      <th>id</th>\n",
              "      <th>name</th>\n",
              "      <th>salary</th>\n",
              "      <th>department</th>\n",
              "      <th>position</th>\n",
              "      <th>hireDate</th>\n",
              "    </tr>\n",
              "  </thead>\n",
              "  <tbody>\n",
              "    <tr>\n",
              "      <th>2</th>\n",
              "      <td>3</td>\n",
              "      <td>Jane</td>\n",
              "      <td>620.0</td>\n",
              "      <td>Developer</td>\n",
              "      <td>LV4</td>\n",
              "      <td>2015-11-01</td>\n",
              "    </tr>\n",
              "    <tr>\n",
              "      <th>3</th>\n",
              "      <td>4</td>\n",
              "      <td>Peter</td>\n",
              "      <td>530.0</td>\n",
              "      <td>Developer</td>\n",
              "      <td>LV2</td>\n",
              "      <td>2020-11-01</td>\n",
              "    </tr>\n",
              "    <tr>\n",
              "      <th>4</th>\n",
              "      <td>5</td>\n",
              "      <td>Elena</td>\n",
              "      <td>510.0</td>\n",
              "      <td>Recruiter</td>\n",
              "      <td>LV3</td>\n",
              "      <td>2020-07-01</td>\n",
              "    </tr>\n",
              "    <tr>\n",
              "      <th>5</th>\n",
              "      <td>6</td>\n",
              "      <td>Sujan</td>\n",
              "      <td>710.0</td>\n",
              "      <td>HR</td>\n",
              "      <td>LV5</td>\n",
              "      <td>2014-06-01</td>\n",
              "    </tr>\n",
              "  </tbody>\n",
              "</table>\n",
              "</div>\n",
              "    <div class=\"colab-df-buttons\">\n",
              "\n",
              "  <div class=\"colab-df-container\">\n",
              "    <button class=\"colab-df-convert\" onclick=\"convertToInteractive('df-85583b42-b970-4b6f-af15-6b496b25458e')\"\n",
              "            title=\"Convert this dataframe to an interactive table.\"\n",
              "            style=\"display:none;\">\n",
              "\n",
              "  <svg xmlns=\"http://www.w3.org/2000/svg\" height=\"24px\" viewBox=\"0 -960 960 960\">\n",
              "    <path d=\"M120-120v-720h720v720H120Zm60-500h600v-160H180v160Zm220 220h160v-160H400v160Zm0 220h160v-160H400v160ZM180-400h160v-160H180v160Zm440 0h160v-160H620v160ZM180-180h160v-160H180v160Zm440 0h160v-160H620v160Z\"/>\n",
              "  </svg>\n",
              "    </button>\n",
              "\n",
              "  <style>\n",
              "    .colab-df-container {\n",
              "      display:flex;\n",
              "      gap: 12px;\n",
              "    }\n",
              "\n",
              "    .colab-df-convert {\n",
              "      background-color: #E8F0FE;\n",
              "      border: none;\n",
              "      border-radius: 50%;\n",
              "      cursor: pointer;\n",
              "      display: none;\n",
              "      fill: #1967D2;\n",
              "      height: 32px;\n",
              "      padding: 0 0 0 0;\n",
              "      width: 32px;\n",
              "    }\n",
              "\n",
              "    .colab-df-convert:hover {\n",
              "      background-color: #E2EBFA;\n",
              "      box-shadow: 0px 1px 2px rgba(60, 64, 67, 0.3), 0px 1px 3px 1px rgba(60, 64, 67, 0.15);\n",
              "      fill: #174EA6;\n",
              "    }\n",
              "\n",
              "    .colab-df-buttons div {\n",
              "      margin-bottom: 4px;\n",
              "    }\n",
              "\n",
              "    [theme=dark] .colab-df-convert {\n",
              "      background-color: #3B4455;\n",
              "      fill: #D2E3FC;\n",
              "    }\n",
              "\n",
              "    [theme=dark] .colab-df-convert:hover {\n",
              "      background-color: #434B5C;\n",
              "      box-shadow: 0px 1px 3px 1px rgba(0, 0, 0, 0.15);\n",
              "      filter: drop-shadow(0px 1px 2px rgba(0, 0, 0, 0.3));\n",
              "      fill: #FFFFFF;\n",
              "    }\n",
              "  </style>\n",
              "\n",
              "    <script>\n",
              "      const buttonEl =\n",
              "        document.querySelector('#df-85583b42-b970-4b6f-af15-6b496b25458e button.colab-df-convert');\n",
              "      buttonEl.style.display =\n",
              "        google.colab.kernel.accessAllowed ? 'block' : 'none';\n",
              "\n",
              "      async function convertToInteractive(key) {\n",
              "        const element = document.querySelector('#df-85583b42-b970-4b6f-af15-6b496b25458e');\n",
              "        const dataTable =\n",
              "          await google.colab.kernel.invokeFunction('convertToInteractive',\n",
              "                                                    [key], {});\n",
              "        if (!dataTable) return;\n",
              "\n",
              "        const docLinkHtml = 'Like what you see? Visit the ' +\n",
              "          '<a target=\"_blank\" href=https://colab.research.google.com/notebooks/data_table.ipynb>data table notebook</a>'\n",
              "          + ' to learn more about interactive tables.';\n",
              "        element.innerHTML = '';\n",
              "        dataTable['output_type'] = 'display_data';\n",
              "        await google.colab.output.renderOutput(dataTable, element);\n",
              "        const docLink = document.createElement('div');\n",
              "        docLink.innerHTML = docLinkHtml;\n",
              "        element.appendChild(docLink);\n",
              "      }\n",
              "    </script>\n",
              "  </div>\n",
              "\n",
              "\n",
              "<div id=\"df-ac7f9053-8c3f-48ee-89af-14b4708ec422\">\n",
              "  <button class=\"colab-df-quickchart\" onclick=\"quickchart('df-ac7f9053-8c3f-48ee-89af-14b4708ec422')\"\n",
              "            title=\"Suggest charts\"\n",
              "            style=\"display:none;\">\n",
              "\n",
              "<svg xmlns=\"http://www.w3.org/2000/svg\" height=\"24px\"viewBox=\"0 0 24 24\"\n",
              "     width=\"24px\">\n",
              "    <g>\n",
              "        <path d=\"M19 3H5c-1.1 0-2 .9-2 2v14c0 1.1.9 2 2 2h14c1.1 0 2-.9 2-2V5c0-1.1-.9-2-2-2zM9 17H7v-7h2v7zm4 0h-2V7h2v10zm4 0h-2v-4h2v4z\"/>\n",
              "    </g>\n",
              "</svg>\n",
              "  </button>\n",
              "\n",
              "<style>\n",
              "  .colab-df-quickchart {\n",
              "      --bg-color: #E8F0FE;\n",
              "      --fill-color: #1967D2;\n",
              "      --hover-bg-color: #E2EBFA;\n",
              "      --hover-fill-color: #174EA6;\n",
              "      --disabled-fill-color: #AAA;\n",
              "      --disabled-bg-color: #DDD;\n",
              "  }\n",
              "\n",
              "  [theme=dark] .colab-df-quickchart {\n",
              "      --bg-color: #3B4455;\n",
              "      --fill-color: #D2E3FC;\n",
              "      --hover-bg-color: #434B5C;\n",
              "      --hover-fill-color: #FFFFFF;\n",
              "      --disabled-bg-color: #3B4455;\n",
              "      --disabled-fill-color: #666;\n",
              "  }\n",
              "\n",
              "  .colab-df-quickchart {\n",
              "    background-color: var(--bg-color);\n",
              "    border: none;\n",
              "    border-radius: 50%;\n",
              "    cursor: pointer;\n",
              "    display: none;\n",
              "    fill: var(--fill-color);\n",
              "    height: 32px;\n",
              "    padding: 0;\n",
              "    width: 32px;\n",
              "  }\n",
              "\n",
              "  .colab-df-quickchart:hover {\n",
              "    background-color: var(--hover-bg-color);\n",
              "    box-shadow: 0 1px 2px rgba(60, 64, 67, 0.3), 0 1px 3px 1px rgba(60, 64, 67, 0.15);\n",
              "    fill: var(--button-hover-fill-color);\n",
              "  }\n",
              "\n",
              "  .colab-df-quickchart-complete:disabled,\n",
              "  .colab-df-quickchart-complete:disabled:hover {\n",
              "    background-color: var(--disabled-bg-color);\n",
              "    fill: var(--disabled-fill-color);\n",
              "    box-shadow: none;\n",
              "  }\n",
              "\n",
              "  .colab-df-spinner {\n",
              "    border: 2px solid var(--fill-color);\n",
              "    border-color: transparent;\n",
              "    border-bottom-color: var(--fill-color);\n",
              "    animation:\n",
              "      spin 1s steps(1) infinite;\n",
              "  }\n",
              "\n",
              "  @keyframes spin {\n",
              "    0% {\n",
              "      border-color: transparent;\n",
              "      border-bottom-color: var(--fill-color);\n",
              "      border-left-color: var(--fill-color);\n",
              "    }\n",
              "    20% {\n",
              "      border-color: transparent;\n",
              "      border-left-color: var(--fill-color);\n",
              "      border-top-color: var(--fill-color);\n",
              "    }\n",
              "    30% {\n",
              "      border-color: transparent;\n",
              "      border-left-color: var(--fill-color);\n",
              "      border-top-color: var(--fill-color);\n",
              "      border-right-color: var(--fill-color);\n",
              "    }\n",
              "    40% {\n",
              "      border-color: transparent;\n",
              "      border-right-color: var(--fill-color);\n",
              "      border-top-color: var(--fill-color);\n",
              "    }\n",
              "    60% {\n",
              "      border-color: transparent;\n",
              "      border-right-color: var(--fill-color);\n",
              "    }\n",
              "    80% {\n",
              "      border-color: transparent;\n",
              "      border-right-color: var(--fill-color);\n",
              "      border-bottom-color: var(--fill-color);\n",
              "    }\n",
              "    90% {\n",
              "      border-color: transparent;\n",
              "      border-bottom-color: var(--fill-color);\n",
              "    }\n",
              "  }\n",
              "</style>\n",
              "\n",
              "  <script>\n",
              "    async function quickchart(key) {\n",
              "      const quickchartButtonEl =\n",
              "        document.querySelector('#' + key + ' button');\n",
              "      quickchartButtonEl.disabled = true;  // To prevent multiple clicks.\n",
              "      quickchartButtonEl.classList.add('colab-df-spinner');\n",
              "      try {\n",
              "        const charts = await google.colab.kernel.invokeFunction(\n",
              "            'suggestCharts', [key], {});\n",
              "      } catch (error) {\n",
              "        console.error('Error during call to suggestCharts:', error);\n",
              "      }\n",
              "      quickchartButtonEl.classList.remove('colab-df-spinner');\n",
              "      quickchartButtonEl.classList.add('colab-df-quickchart-complete');\n",
              "    }\n",
              "    (() => {\n",
              "      let quickchartButtonEl =\n",
              "        document.querySelector('#df-ac7f9053-8c3f-48ee-89af-14b4708ec422 button');\n",
              "      quickchartButtonEl.style.display =\n",
              "        google.colab.kernel.accessAllowed ? 'block' : 'none';\n",
              "    })();\n",
              "  </script>\n",
              "</div>\n",
              "\n",
              "    </div>\n",
              "  </div>\n"
            ],
            "application/vnd.google.colaboratory.intrinsic+json": {
              "type": "dataframe",
              "repr_error": "0"
            }
          },
          "metadata": {},
          "execution_count": 21
        }
      ],
      "source": [
        "import pandas as pd\n",
        "\n",
        "df = pd.read_sql_query(\"SELECT * FROM employees;\", conn) # 현재 연결(connect)되어있는 DB로부터 \"SQL Query\"를 활용해 데이터를 읽어들입니다.\n",
        "df\n",
        "\n",
        "df[df['salary']>500]\n",
        "# 세미콜론(;)이 빠져도 실행은 되지만, 추후 문법 상 오류가 발생하지 않도록 최대한 세미콜론을 꼭 붙여주도록 하겠습니다."
      ]
    },
    {
      "cell_type": "markdown",
      "metadata": {
        "id": "Vpjr3hKdtUN-"
      },
      "source": [
        "<br>\n",
        "<br>\n",
        "\n",
        "## 1-4. Closing connection of SQLite3\n",
        ": 연결을 Close 해주어야 DB 파일인 .sqlite 파일의 삭제 등이 가능합니다."
      ]
    },
    {
      "cell_type": "code",
      "execution_count": 22,
      "metadata": {
        "id": "x_5NXFKPtUN-"
      },
      "outputs": [],
      "source": [
        "conn.close() # connect -> commit/rollback -> close"
      ]
    },
    {
      "cell_type": "markdown",
      "metadata": {
        "id": "HFm1uDkotUN-"
      },
      "source": [
        "<br>\n",
        "<br>\n",
        "\n",
        "## 1-5. Browsing DB tables with [ DB Browser for SQLite ]\n",
        "\n",
        "- Installer download @ https://github.com/sqlitebrowser/sqlitebrowser\n",
        "- We will use [ DB Browser for SQLite - **.zip (no installer)** for 64-bit Windows ]\n",
        "- Unzip the .zip file & execute **\"DB Browser for SQLite.exe\"**\n",
        "\n",
        "<hr>\n",
        "\n",
        "![image.png](attachment:image.png)\n",
        "\n",
        "<hr>\n"
      ]
    },
    {
      "cell_type": "markdown",
      "metadata": {
        "id": "5m0Clc4ptUN-"
      },
      "source": [
        "![image.png](attachment:image.png)\n",
        "\n",
        "<br>\n",
        "<hr>"
      ]
    },
    {
      "cell_type": "markdown",
      "metadata": {
        "id": "0K0F9iPOtUN_"
      },
      "source": [
        "![image.png](attachment:image.png)\n",
        "\n",
        "<br>\n",
        "<hr>"
      ]
    },
    {
      "cell_type": "markdown",
      "metadata": {
        "id": "1JJdfTVetUN_"
      },
      "source": [
        "<br>\n",
        "<br>\n",
        "\n",
        "## 2. DDL (Data Definition Language, 데이터 정의 언어)\n",
        "\n",
        "<br>\n",
        "\n",
        "- 각 릴레이션(데이터베이스 테이블)을 정의하기 위해 사용하는 언어\n",
        "- **CREATE** (테이블 생성) / **ALTER** (테이블 변경) / **DROP** (테이블 삭제) 등\n",
        "\n",
        "<br>\n",
        "<br>\n",
        "\n",
        "![image.png](attachment:image.png)\n",
        "\n",
        "<br>\n",
        "<br>"
      ]
    },
    {
      "cell_type": "code",
      "execution_count": null,
      "metadata": {
        "id": "dBsiIRdBtUN_"
      },
      "outputs": [],
      "source": [
        "import pandas as pd\n",
        "import sqlite3 # built-in library (Python 2.x & 3.x)\n",
        "\n",
        "dbpath = \"maindb_2.db\" # or \"maindb_2.sqlite\"\n",
        "conn = sqlite3.connect(dbpath)\n",
        "cur = conn.cursor()\n",
        "\n",
        "# conn.cursor(), conn.commit/rollback(), conn.close() <- conn.commit() : 저장 vs conn.rollback() : 마지막 commit 이후의 변경사항 모두 취소\n",
        "# cur.execute/executescript/executemany(), cur.fetchone/fetchall()"
      ]
    },
    {
      "cell_type": "markdown",
      "metadata": {
        "id": "P_i21JzytUN_"
      },
      "source": [
        "<br>\n",
        "\n",
        "### CREATE Table\n",
        "\n",
        "<br>\n",
        "\n",
        "- SQLite **Data Types** @ https://www.sqlitetutorial.net/sqlite-data-types/\n",
        "<br>\n",
        "\n",
        "- SQLite **Primary Key** @ https://www.sqlitetutorial.net/sqlite-primary-key/\n",
        "\n",
        "- SQLite **AUTOINCREMENT** (not required/recommended always) @ https://www.sqlitetutorial.net/sqlite-autoincrement/\n",
        "\n",
        "- SQLite **NOT NULL** Constraint @ https://www.sqlitetutorial.net/sqlite-not-null-constraint/\n",
        "\n",
        "- SQLite **CHECK** Constraint @ https://www.sqlitetutorial.net/sqlite-check-constraint/\n",
        "\n",
        "- SQLite **UNIQUE** Constraint @ https://www.sqlitetutorial.net/sqlite-unique-constraint/\n",
        "  <br>(SQLite treats all NULL values are different, therefore, **a column with a UNIQUE constraint can have multiple NULL values**)\n"
      ]
    },
    {
      "cell_type": "code",
      "execution_count": null,
      "metadata": {
        "id": "2VTmxa-ytUN_"
      },
      "outputs": [],
      "source": [
        "# CREATE TABLE IF NOT EXISTS contacts(\n",
        "\n",
        "script = \"\"\"\n",
        "CREATE TABLE contacts (\n",
        "    contact_id INTEGER PRIMARY KEY,\n",
        "    likes INTEGER DEFAULT 0, --값이 입력되지 않을 시 디폴트로 0을 저장합니다.\n",
        "    first_name TEXT NOT NULL,\n",
        "    last_name TEXT NOT NULL,\n",
        "    email TEXT NOT NULL UNIQUE, --중복된 값이 입력될 경우 에러를 일으킵니다.\n",
        "    phone TEXT NOT NULL UNIQUE CHECK (length(phone) >= 10) -- 길이가 10 이상이 아닐 경우 에러를 일으킵니다.\n",
        ");\n",
        "\"\"\"\n",
        "# 아래와 같이 먼저 contact_id 필드를 생성한 후, 사후적으로 Primary key로 지정이 가능합니다.\n",
        "# CREATE TABLE contacts (\n",
        "#     contact_id INTEGER,\n",
        "#     ~~~\n",
        "#     PRIMARY KEY (contact_id)\n",
        "# );\n",
        "\n",
        "cur.execute(script)"
      ]
    },
    {
      "cell_type": "code",
      "execution_count": null,
      "metadata": {
        "id": "zaUTkND0tUN_",
        "outputId": "e899137f-4fa7-478f-a2d3-f2f5bce0a4ec"
      },
      "outputs": [
        {
          "data": {
            "text/html": [
              "<div>\n",
              "<style scoped>\n",
              "    .dataframe tbody tr th:only-of-type {\n",
              "        vertical-align: middle;\n",
              "    }\n",
              "\n",
              "    .dataframe tbody tr th {\n",
              "        vertical-align: top;\n",
              "    }\n",
              "\n",
              "    .dataframe thead th {\n",
              "        text-align: right;\n",
              "    }\n",
              "</style>\n",
              "<table border=\"1\" class=\"dataframe\">\n",
              "  <thead>\n",
              "    <tr style=\"text-align: right;\">\n",
              "      <th></th>\n",
              "      <th>contact_id</th>\n",
              "      <th>likes</th>\n",
              "      <th>first_name</th>\n",
              "      <th>last_name</th>\n",
              "      <th>email</th>\n",
              "      <th>phone</th>\n",
              "    </tr>\n",
              "  </thead>\n",
              "  <tbody>\n",
              "  </tbody>\n",
              "</table>\n",
              "</div>"
            ],
            "text/plain": [
              "Empty DataFrame\n",
              "Columns: [contact_id, likes, first_name, last_name, email, phone]\n",
              "Index: []"
            ]
          },
          "execution_count": 49,
          "metadata": {},
          "output_type": "execute_result"
        }
      ],
      "source": [
        "script = \"\"\"\n",
        "SELECT * FROM contacts;\n",
        "\"\"\"\n",
        "\n",
        "df = pd.read_sql_query(script, conn)\n",
        "df"
      ]
    },
    {
      "cell_type": "code",
      "execution_count": null,
      "metadata": {
        "id": "H1suhGMTtUN_"
      },
      "outputs": [],
      "source": [
        "script = \"\"\"\n",
        "CREATE TABLE groups (\n",
        "   group_id INTEGER PRIMARY KEY AUTOINCREMENT,\n",
        "   name TEXT NOT NULL\n",
        ");\n",
        "\"\"\"\n",
        "\n",
        "cur.execute(script)"
      ]
    },
    {
      "cell_type": "code",
      "execution_count": null,
      "metadata": {
        "id": "jzc9-zoQtUOA",
        "outputId": "b520e264-2ba3-451a-e83a-06b070119fe7"
      },
      "outputs": [
        {
          "data": {
            "text/html": [
              "<div>\n",
              "<style scoped>\n",
              "    .dataframe tbody tr th:only-of-type {\n",
              "        vertical-align: middle;\n",
              "    }\n",
              "\n",
              "    .dataframe tbody tr th {\n",
              "        vertical-align: top;\n",
              "    }\n",
              "\n",
              "    .dataframe thead th {\n",
              "        text-align: right;\n",
              "    }\n",
              "</style>\n",
              "<table border=\"1\" class=\"dataframe\">\n",
              "  <thead>\n",
              "    <tr style=\"text-align: right;\">\n",
              "      <th></th>\n",
              "      <th>group_id</th>\n",
              "      <th>name</th>\n",
              "    </tr>\n",
              "  </thead>\n",
              "  <tbody>\n",
              "  </tbody>\n",
              "</table>\n",
              "</div>"
            ],
            "text/plain": [
              "Empty DataFrame\n",
              "Columns: [group_id, name]\n",
              "Index: []"
            ]
          },
          "execution_count": 51,
          "metadata": {},
          "output_type": "execute_result"
        }
      ],
      "source": [
        "script = \"\"\"\n",
        "SELECT * FROM groups;\n",
        "\"\"\"\n",
        "\n",
        "df = pd.read_sql_query(script, conn)\n",
        "df"
      ]
    },
    {
      "cell_type": "code",
      "execution_count": null,
      "metadata": {
        "id": "2p-gVq9FtUOA"
      },
      "outputs": [],
      "source": [
        "# SQLite Foreign Key constraint in detail @ https://www.sqlitetutorial.net/sqlite-foreign-key/\n",
        "\n",
        "script = \"\"\"\n",
        "CREATE TABLE contact_groups(\n",
        "   contact_id INTEGER,\n",
        "   group_id INTEGER,\n",
        "   PRIMARY KEY (contact_id, group_id),\n",
        "   FOREIGN KEY (contact_id)\n",
        "      REFERENCES contacts(contact_id) -- contacts 테이블의 contact_id 필드를 참조하여 이 테이블의 contact_id 필드를 생성합니다.\n",
        "         ON DELETE CASCADE, -- 참조하고 있는 contact 테이블의 contact_id 값이 삭제되면 이에 따라 자동으로 이 테이블에서도 삭제됩니다.\n",
        "   FOREIGN KEY (group_id)\n",
        "      REFERENCES groups(group_id)\n",
        "         ON DELETE CASCADE\n",
        ");\n",
        "\"\"\"\n",
        "\n",
        "cur.execute(script)"
      ]
    },
    {
      "cell_type": "code",
      "execution_count": null,
      "metadata": {
        "id": "5O_pcoO8tUOA",
        "outputId": "384243e7-5f58-4312-e1e4-0b892a4f1b07"
      },
      "outputs": [
        {
          "data": {
            "text/html": [
              "<div>\n",
              "<style scoped>\n",
              "    .dataframe tbody tr th:only-of-type {\n",
              "        vertical-align: middle;\n",
              "    }\n",
              "\n",
              "    .dataframe tbody tr th {\n",
              "        vertical-align: top;\n",
              "    }\n",
              "\n",
              "    .dataframe thead th {\n",
              "        text-align: right;\n",
              "    }\n",
              "</style>\n",
              "<table border=\"1\" class=\"dataframe\">\n",
              "  <thead>\n",
              "    <tr style=\"text-align: right;\">\n",
              "      <th></th>\n",
              "      <th>contact_id</th>\n",
              "      <th>group_id</th>\n",
              "    </tr>\n",
              "  </thead>\n",
              "  <tbody>\n",
              "  </tbody>\n",
              "</table>\n",
              "</div>"
            ],
            "text/plain": [
              "Empty DataFrame\n",
              "Columns: [contact_id, group_id]\n",
              "Index: []"
            ]
          },
          "execution_count": 53,
          "metadata": {},
          "output_type": "execute_result"
        }
      ],
      "source": [
        "script = \"\"\"\n",
        "SELECT * FROM contact_groups;\n",
        "\"\"\"\n",
        "\n",
        "df = pd.read_sql_query(script, conn)\n",
        "df.head()"
      ]
    },
    {
      "cell_type": "markdown",
      "metadata": {
        "id": "vv2-fftZtUOA"
      },
      "source": [
        "<br>\n",
        "\n",
        "### ALTER Table\n",
        "- Rename a table.\n",
        "- Rename a column.\n",
        "- Add a new column to a table."
      ]
    },
    {
      "cell_type": "code",
      "execution_count": null,
      "metadata": {
        "id": "aN8Ue68JtUOA",
        "outputId": "96311d83-ca38-4b77-f7cb-a28898902aeb"
      },
      "outputs": [
        {
          "data": {
            "text/html": [
              "<div>\n",
              "<style scoped>\n",
              "    .dataframe tbody tr th:only-of-type {\n",
              "        vertical-align: middle;\n",
              "    }\n",
              "\n",
              "    .dataframe tbody tr th {\n",
              "        vertical-align: top;\n",
              "    }\n",
              "\n",
              "    .dataframe thead th {\n",
              "        text-align: right;\n",
              "    }\n",
              "</style>\n",
              "<table border=\"1\" class=\"dataframe\">\n",
              "  <thead>\n",
              "    <tr style=\"text-align: right;\">\n",
              "      <th></th>\n",
              "      <th>name</th>\n",
              "      <th>model</th>\n",
              "      <th>Serial</th>\n",
              "    </tr>\n",
              "  </thead>\n",
              "  <tbody>\n",
              "    <tr>\n",
              "      <th>0</th>\n",
              "      <td>HP ZBook 17 G3 Mobile Workstation</td>\n",
              "      <td>ZBook</td>\n",
              "      <td>SN-2015</td>\n",
              "    </tr>\n",
              "  </tbody>\n",
              "</table>\n",
              "</div>"
            ],
            "text/plain": [
              "                                name  model   Serial\n",
              "0  HP ZBook 17 G3 Mobile Workstation  ZBook  SN-2015"
            ]
          },
          "execution_count": 40,
          "metadata": {},
          "output_type": "execute_result"
        }
      ],
      "source": [
        "script = \"\"\"\n",
        "CREATE TABLE devices (\n",
        "   name TEXT NOT NULL,\n",
        "   model TEXT NOT NULL,\n",
        "   Serial INTEGER NOT NULL UNIQUE\n",
        ");\n",
        "\"\"\"\n",
        "cur.execute(script)\n",
        "\n",
        "script = \"\"\"\n",
        "INSERT INTO devices (name, model, serial)\n",
        "VALUES('HP ZBook 17 G3 Mobile Workstation','ZBook','SN-2015');\n",
        "\"\"\"\n",
        "cur.execute(script)\n",
        "\n",
        "script = \"\"\"\n",
        "SELECT * FROM devices;\n",
        "\"\"\"\n",
        "\n",
        "df = pd.read_sql_query(script, conn)\n",
        "df.head()"
      ]
    },
    {
      "cell_type": "code",
      "execution_count": null,
      "metadata": {
        "id": "6u76Qst_tUOA",
        "outputId": "ea989327-3e42-4e53-c23e-b634111a3210"
      },
      "outputs": [
        {
          "data": {
            "text/html": [
              "<div>\n",
              "<style scoped>\n",
              "    .dataframe tbody tr th:only-of-type {\n",
              "        vertical-align: middle;\n",
              "    }\n",
              "\n",
              "    .dataframe tbody tr th {\n",
              "        vertical-align: top;\n",
              "    }\n",
              "\n",
              "    .dataframe thead th {\n",
              "        text-align: right;\n",
              "    }\n",
              "</style>\n",
              "<table border=\"1\" class=\"dataframe\">\n",
              "  <thead>\n",
              "    <tr style=\"text-align: right;\">\n",
              "      <th></th>\n",
              "      <th>name</th>\n",
              "      <th>model</th>\n",
              "      <th>Serial</th>\n",
              "    </tr>\n",
              "  </thead>\n",
              "  <tbody>\n",
              "    <tr>\n",
              "      <th>0</th>\n",
              "      <td>HP ZBook 17 G3 Mobile Workstation</td>\n",
              "      <td>ZBook</td>\n",
              "      <td>SN-2015</td>\n",
              "    </tr>\n",
              "  </tbody>\n",
              "</table>\n",
              "</div>"
            ],
            "text/plain": [
              "                                name  model   Serial\n",
              "0  HP ZBook 17 G3 Mobile Workstation  ZBook  SN-2015"
            ]
          },
          "execution_count": 41,
          "metadata": {},
          "output_type": "execute_result"
        }
      ],
      "source": [
        "script = \"\"\"\n",
        "ALTER TABLE devices\n",
        "RENAME TO equipment; -- devices 테이블의 이름을 equipment로 바꿉니다.\n",
        "\"\"\"\n",
        "cur.execute(script)\n",
        "\n",
        "# devices -> equipment\n",
        "script = \"\"\"\n",
        "SELECT * FROM equipment;\n",
        "\"\"\"\n",
        "\n",
        "df = pd.read_sql_query(script, conn)\n",
        "df.head()"
      ]
    },
    {
      "cell_type": "code",
      "execution_count": null,
      "metadata": {
        "id": "QIsc35pBtUOB",
        "outputId": "4abf4ca5-440f-4104-ccdc-88556c0ba430"
      },
      "outputs": [
        {
          "data": {
            "text/html": [
              "<div>\n",
              "<style scoped>\n",
              "    .dataframe tbody tr th:only-of-type {\n",
              "        vertical-align: middle;\n",
              "    }\n",
              "\n",
              "    .dataframe tbody tr th {\n",
              "        vertical-align: top;\n",
              "    }\n",
              "\n",
              "    .dataframe thead th {\n",
              "        text-align: right;\n",
              "    }\n",
              "</style>\n",
              "<table border=\"1\" class=\"dataframe\">\n",
              "  <thead>\n",
              "    <tr style=\"text-align: right;\">\n",
              "      <th></th>\n",
              "      <th>name</th>\n",
              "      <th>model</th>\n",
              "      <th>Serial</th>\n",
              "      <th>location</th>\n",
              "    </tr>\n",
              "  </thead>\n",
              "  <tbody>\n",
              "    <tr>\n",
              "      <th>0</th>\n",
              "      <td>HP ZBook 17 G3 Mobile Workstation</td>\n",
              "      <td>ZBook</td>\n",
              "      <td>SN-2015</td>\n",
              "      <td>None</td>\n",
              "    </tr>\n",
              "  </tbody>\n",
              "</table>\n",
              "</div>"
            ],
            "text/plain": [
              "                                name  model   Serial location\n",
              "0  HP ZBook 17 G3 Mobile Workstation  ZBook  SN-2015     None"
            ]
          },
          "execution_count": 42,
          "metadata": {},
          "output_type": "execute_result"
        }
      ],
      "source": [
        "script = \"\"\"\n",
        "ALTER TABLE equipment\n",
        "ADD COLUMN location text; -- 명령어를 주목해주세요. ('FIELD'가 아니라 'COLUMN'을 사용)\n",
        "\"\"\"\n",
        "cur.execute(script)\n",
        "\n",
        "script = \"\"\"\n",
        "SELECT * FROM equipment;\n",
        "\"\"\"\n",
        "\n",
        "df = pd.read_sql_query(script, conn)\n",
        "df.head()"
      ]
    },
    {
      "cell_type": "code",
      "execution_count": null,
      "metadata": {
        "scrolled": true,
        "id": "R2Pg8Ai0tUOB",
        "outputId": "edb3c039-70ab-4119-b326-b21373f7ca0b"
      },
      "outputs": [
        {
          "data": {
            "text/html": [
              "<div>\n",
              "<style scoped>\n",
              "    .dataframe tbody tr th:only-of-type {\n",
              "        vertical-align: middle;\n",
              "    }\n",
              "\n",
              "    .dataframe tbody tr th {\n",
              "        vertical-align: top;\n",
              "    }\n",
              "\n",
              "    .dataframe thead th {\n",
              "        text-align: right;\n",
              "    }\n",
              "</style>\n",
              "<table border=\"1\" class=\"dataframe\">\n",
              "  <thead>\n",
              "    <tr style=\"text-align: right;\">\n",
              "      <th></th>\n",
              "      <th>name</th>\n",
              "      <th>model</th>\n",
              "      <th>Serial</th>\n",
              "      <th>loc</th>\n",
              "    </tr>\n",
              "  </thead>\n",
              "  <tbody>\n",
              "    <tr>\n",
              "      <th>0</th>\n",
              "      <td>HP ZBook 17 G3 Mobile Workstation</td>\n",
              "      <td>ZBook</td>\n",
              "      <td>SN-2015</td>\n",
              "      <td>None</td>\n",
              "    </tr>\n",
              "  </tbody>\n",
              "</table>\n",
              "</div>"
            ],
            "text/plain": [
              "                                name  model   Serial   loc\n",
              "0  HP ZBook 17 G3 Mobile Workstation  ZBook  SN-2015  None"
            ]
          },
          "execution_count": 43,
          "metadata": {},
          "output_type": "execute_result"
        }
      ],
      "source": [
        "script = \"\"\"\n",
        "ALTER TABLE equipment\n",
        "RENAME COLUMN location TO loc;\n",
        "\"\"\"\n",
        "cur.execute(script)\n",
        "\n",
        "script = \"\"\"\n",
        "SELECT * FROM equipment;\n",
        "\"\"\"\n",
        "\n",
        "df = pd.read_sql_query(script, conn)\n",
        "df.head()"
      ]
    },
    {
      "cell_type": "markdown",
      "metadata": {
        "id": "z1-mRokGtUOB"
      },
      "source": [
        "<br>\n",
        "\n",
        "### DROP Table"
      ]
    },
    {
      "cell_type": "code",
      "execution_count": null,
      "metadata": {
        "id": "gjekz0OAtUOB",
        "outputId": "ec2a4775-3ee7-4152-9cf6-a8c58b15c442"
      },
      "outputs": [
        {
          "ename": "DatabaseError",
          "evalue": "Execution failed on sql '\nSELECT * FROM equipment;\n': no such table: equipment",
          "output_type": "error",
          "traceback": [
            "\u001b[1;31m---------------------------------------------------------------------------\u001b[0m",
            "\u001b[1;31mOperationalError\u001b[0m                          Traceback (most recent call last)",
            "\u001b[1;32mC:\\ProgramData\\Anaconda3\\lib\\site-packages\\pandas\\io\\sql.py\u001b[0m in \u001b[0;36mexecute\u001b[1;34m(self, *args, **kwargs)\u001b[0m\n\u001b[0;32m   1585\u001b[0m         \u001b[1;32mtry\u001b[0m\u001b[1;33m:\u001b[0m\u001b[1;33m\u001b[0m\u001b[1;33m\u001b[0m\u001b[0m\n\u001b[1;32m-> 1586\u001b[1;33m             \u001b[0mcur\u001b[0m\u001b[1;33m.\u001b[0m\u001b[0mexecute\u001b[0m\u001b[1;33m(\u001b[0m\u001b[1;33m*\u001b[0m\u001b[0margs\u001b[0m\u001b[1;33m,\u001b[0m \u001b[1;33m**\u001b[0m\u001b[0mkwargs\u001b[0m\u001b[1;33m)\u001b[0m\u001b[1;33m\u001b[0m\u001b[1;33m\u001b[0m\u001b[0m\n\u001b[0m\u001b[0;32m   1587\u001b[0m             \u001b[1;32mreturn\u001b[0m \u001b[0mcur\u001b[0m\u001b[1;33m\u001b[0m\u001b[1;33m\u001b[0m\u001b[0m\n",
            "\u001b[1;31mOperationalError\u001b[0m: no such table: equipment",
            "\nThe above exception was the direct cause of the following exception:\n",
            "\u001b[1;31mDatabaseError\u001b[0m                             Traceback (most recent call last)",
            "\u001b[1;32m<ipython-input-44-417783a0a557>\u001b[0m in \u001b[0;36m<module>\u001b[1;34m\u001b[0m\n\u001b[0;32m      8\u001b[0m \"\"\" \n\u001b[0;32m      9\u001b[0m \u001b[1;33m\u001b[0m\u001b[0m\n\u001b[1;32m---> 10\u001b[1;33m \u001b[0mdf\u001b[0m \u001b[1;33m=\u001b[0m \u001b[0mpd\u001b[0m\u001b[1;33m.\u001b[0m\u001b[0mread_sql_query\u001b[0m\u001b[1;33m(\u001b[0m\u001b[0mscript\u001b[0m\u001b[1;33m,\u001b[0m \u001b[0mconn\u001b[0m\u001b[1;33m)\u001b[0m\u001b[1;33m\u001b[0m\u001b[1;33m\u001b[0m\u001b[0m\n\u001b[0m\u001b[0;32m     11\u001b[0m \u001b[0mdf\u001b[0m\u001b[1;33m.\u001b[0m\u001b[0mhead\u001b[0m\u001b[1;33m(\u001b[0m\u001b[1;33m)\u001b[0m\u001b[1;33m\u001b[0m\u001b[1;33m\u001b[0m\u001b[0m\n",
            "\u001b[1;32mC:\\ProgramData\\Anaconda3\\lib\\site-packages\\pandas\\io\\sql.py\u001b[0m in \u001b[0;36mread_sql_query\u001b[1;34m(sql, con, index_col, coerce_float, params, parse_dates, chunksize)\u001b[0m\n\u001b[0;32m    330\u001b[0m         \u001b[0mcoerce_float\u001b[0m\u001b[1;33m=\u001b[0m\u001b[0mcoerce_float\u001b[0m\u001b[1;33m,\u001b[0m\u001b[1;33m\u001b[0m\u001b[1;33m\u001b[0m\u001b[0m\n\u001b[0;32m    331\u001b[0m         \u001b[0mparse_dates\u001b[0m\u001b[1;33m=\u001b[0m\u001b[0mparse_dates\u001b[0m\u001b[1;33m,\u001b[0m\u001b[1;33m\u001b[0m\u001b[1;33m\u001b[0m\u001b[0m\n\u001b[1;32m--> 332\u001b[1;33m         \u001b[0mchunksize\u001b[0m\u001b[1;33m=\u001b[0m\u001b[0mchunksize\u001b[0m\u001b[1;33m,\u001b[0m\u001b[1;33m\u001b[0m\u001b[1;33m\u001b[0m\u001b[0m\n\u001b[0m\u001b[0;32m    333\u001b[0m     )\n\u001b[0;32m    334\u001b[0m \u001b[1;33m\u001b[0m\u001b[0m\n",
            "\u001b[1;32mC:\\ProgramData\\Anaconda3\\lib\\site-packages\\pandas\\io\\sql.py\u001b[0m in \u001b[0;36mread_query\u001b[1;34m(self, sql, index_col, coerce_float, params, parse_dates, chunksize)\u001b[0m\n\u001b[0;32m   1631\u001b[0m \u001b[1;33m\u001b[0m\u001b[0m\n\u001b[0;32m   1632\u001b[0m         \u001b[0margs\u001b[0m \u001b[1;33m=\u001b[0m \u001b[0m_convert_params\u001b[0m\u001b[1;33m(\u001b[0m\u001b[0msql\u001b[0m\u001b[1;33m,\u001b[0m \u001b[0mparams\u001b[0m\u001b[1;33m)\u001b[0m\u001b[1;33m\u001b[0m\u001b[1;33m\u001b[0m\u001b[0m\n\u001b[1;32m-> 1633\u001b[1;33m         \u001b[0mcursor\u001b[0m \u001b[1;33m=\u001b[0m \u001b[0mself\u001b[0m\u001b[1;33m.\u001b[0m\u001b[0mexecute\u001b[0m\u001b[1;33m(\u001b[0m\u001b[1;33m*\u001b[0m\u001b[0margs\u001b[0m\u001b[1;33m)\u001b[0m\u001b[1;33m\u001b[0m\u001b[1;33m\u001b[0m\u001b[0m\n\u001b[0m\u001b[0;32m   1634\u001b[0m         \u001b[0mcolumns\u001b[0m \u001b[1;33m=\u001b[0m \u001b[1;33m[\u001b[0m\u001b[0mcol_desc\u001b[0m\u001b[1;33m[\u001b[0m\u001b[1;36m0\u001b[0m\u001b[1;33m]\u001b[0m \u001b[1;32mfor\u001b[0m \u001b[0mcol_desc\u001b[0m \u001b[1;32min\u001b[0m \u001b[0mcursor\u001b[0m\u001b[1;33m.\u001b[0m\u001b[0mdescription\u001b[0m\u001b[1;33m]\u001b[0m\u001b[1;33m\u001b[0m\u001b[1;33m\u001b[0m\u001b[0m\n\u001b[0;32m   1635\u001b[0m \u001b[1;33m\u001b[0m\u001b[0m\n",
            "\u001b[1;32mC:\\ProgramData\\Anaconda3\\lib\\site-packages\\pandas\\io\\sql.py\u001b[0m in \u001b[0;36mexecute\u001b[1;34m(self, *args, **kwargs)\u001b[0m\n\u001b[0;32m   1596\u001b[0m \u001b[1;33m\u001b[0m\u001b[0m\n\u001b[0;32m   1597\u001b[0m             \u001b[0mex\u001b[0m \u001b[1;33m=\u001b[0m \u001b[0mDatabaseError\u001b[0m\u001b[1;33m(\u001b[0m\u001b[1;34mf\"Execution failed on sql '{args[0]}': {exc}\"\u001b[0m\u001b[1;33m)\u001b[0m\u001b[1;33m\u001b[0m\u001b[1;33m\u001b[0m\u001b[0m\n\u001b[1;32m-> 1598\u001b[1;33m             \u001b[1;32mraise\u001b[0m \u001b[0mex\u001b[0m \u001b[1;32mfrom\u001b[0m \u001b[0mexc\u001b[0m\u001b[1;33m\u001b[0m\u001b[1;33m\u001b[0m\u001b[0m\n\u001b[0m\u001b[0;32m   1599\u001b[0m \u001b[1;33m\u001b[0m\u001b[0m\n\u001b[0;32m   1600\u001b[0m     \u001b[1;33m@\u001b[0m\u001b[0mstaticmethod\u001b[0m\u001b[1;33m\u001b[0m\u001b[1;33m\u001b[0m\u001b[0m\n",
            "\u001b[1;31mDatabaseError\u001b[0m: Execution failed on sql '\nSELECT * FROM equipment;\n': no such table: equipment"
          ]
        }
      ],
      "source": [
        "# DROP TABLE IF EXISTS equipment(\n",
        "\n",
        "script = \"\"\"\n",
        "DROP TABLE equipment ;\n",
        "\"\"\"\n",
        "cur.execute(script)\n",
        "\n",
        "script = \"\"\"\n",
        "SELECT * FROM equipment;\n",
        "\"\"\"\n",
        "\n",
        "df = pd.read_sql_query(script, conn)\n",
        "df.head()\n",
        "\n",
        "# DatabaseError occurs (no such table: equipment)"
      ]
    },
    {
      "cell_type": "markdown",
      "metadata": {
        "id": "sr6Bipz6tUOC"
      },
      "source": [
        "<br>\n",
        "<br>\n",
        "\n",
        "## 3. DB 내의 Table 목록 & Table structure 확인하기\n",
        "\n",
        "<br>\n",
        "\n",
        "\\+ (Appendix) SQLite **Dump Command** (backup & restore) @ https://www.sqlitetutorial.net/sqlite-dump/"
      ]
    },
    {
      "cell_type": "code",
      "execution_count": null,
      "metadata": {
        "id": "JlFfRs00tUOC",
        "outputId": "00af25b5-5185-4b0f-ef7f-a0566d6f7212"
      },
      "outputs": [
        {
          "data": {
            "text/html": [
              "<div>\n",
              "<style scoped>\n",
              "    .dataframe tbody tr th:only-of-type {\n",
              "        vertical-align: middle;\n",
              "    }\n",
              "\n",
              "    .dataframe tbody tr th {\n",
              "        vertical-align: top;\n",
              "    }\n",
              "\n",
              "    .dataframe thead th {\n",
              "        text-align: right;\n",
              "    }\n",
              "</style>\n",
              "<table border=\"1\" class=\"dataframe\">\n",
              "  <thead>\n",
              "    <tr style=\"text-align: right;\">\n",
              "      <th></th>\n",
              "      <th>name</th>\n",
              "    </tr>\n",
              "  </thead>\n",
              "  <tbody>\n",
              "    <tr>\n",
              "      <th>0</th>\n",
              "      <td>employees</td>\n",
              "    </tr>\n",
              "    <tr>\n",
              "      <th>1</th>\n",
              "      <td>devices</td>\n",
              "    </tr>\n",
              "    <tr>\n",
              "      <th>2</th>\n",
              "      <td>contacts</td>\n",
              "    </tr>\n",
              "    <tr>\n",
              "      <th>3</th>\n",
              "      <td>groups</td>\n",
              "    </tr>\n",
              "    <tr>\n",
              "      <th>4</th>\n",
              "      <td>contact_groups</td>\n",
              "    </tr>\n",
              "  </tbody>\n",
              "</table>\n",
              "</div>"
            ],
            "text/plain": [
              "             name\n",
              "0       employees\n",
              "1         devices\n",
              "2        contacts\n",
              "3          groups\n",
              "4  contact_groups"
            ]
          },
          "execution_count": 54,
          "metadata": {},
          "output_type": "execute_result"
        }
      ],
      "source": [
        "script = \"\"\"\n",
        "SELECT\n",
        "    name\n",
        "FROM\n",
        "    sqlite_master\n",
        "WHERE -- 이하 내용은 다음 실습들에서 배울 예정입니다.\n",
        "    type ='table' AND\n",
        "    name NOT LIKE 'sqlite_%';\n",
        "\"\"\"\n",
        "\n",
        "df = pd.read_sql_query(script, conn)\n",
        "df"
      ]
    },
    {
      "cell_type": "code",
      "execution_count": null,
      "metadata": {
        "id": "eJnub9f3tUOC",
        "outputId": "3e9266dd-d114-4c97-e8ec-a484e3141481"
      },
      "outputs": [
        {
          "name": "stdout",
          "output_type": "stream",
          "text": [
            "CREATE TABLE contacts (\n",
            "    contact_id INTEGER PRIMARY KEY,\n",
            "    likes INTEGER DEFAULT 0,\n",
            "    first_name TEXT NOT NULL,\n",
            "    last_name TEXT NOT NULL,\n",
            "    email TEXT NOT NULL UNIQUE,\n",
            "    phone TEXT NOT NULL UNIQUE CHECK (length(phone) >= 10) \n",
            ")\n"
          ]
        }
      ],
      "source": [
        "script = \"\"\"\n",
        "SELECT sql\n",
        "FROM sqlite_master\n",
        "WHERE name = 'contacts';\n",
        "\"\"\"\n",
        "\n",
        "df = pd.read_sql_query(script, conn)\n",
        "print(df['sql'][0])"
      ]
    },
    {
      "cell_type": "code",
      "execution_count": null,
      "metadata": {
        "id": "kvh9iYMItUOC"
      },
      "outputs": [],
      "source": [
        "conn.close()"
      ]
    }
  ],
  "metadata": {
    "kernelspec": {
      "display_name": "Python 3",
      "language": "python",
      "name": "python3"
    },
    "language_info": {
      "codemirror_mode": {
        "name": "ipython",
        "version": 3
      },
      "file_extension": ".py",
      "mimetype": "text/x-python",
      "name": "python",
      "nbconvert_exporter": "python",
      "pygments_lexer": "ipython3",
      "version": "3.8.8"
    },
    "colab": {
      "provenance": [],
      "include_colab_link": true
    }
  },
  "nbformat": 4,
  "nbformat_minor": 0
}